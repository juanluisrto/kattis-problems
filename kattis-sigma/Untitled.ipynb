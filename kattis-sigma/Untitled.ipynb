{
 "cells": [
  {
   "cell_type": "code",
   "execution_count": 1,
   "metadata": {
    "collapsed": true
   },
   "outputs": [],
   "source": [
    "import sys"
   ]
  },
  {
   "cell_type": "code",
   "execution_count": 5,
   "metadata": {},
   "outputs": [
    {
     "name": "stdout",
     "output_type": "stream",
     "text": [
      "\n"
     ]
    }
   ],
   "source": [
    "print sys.stdin.readline()"
   ]
  },
  {
   "cell_type": "code",
   "execution_count": 7,
   "metadata": {
    "collapsed": true
   },
   "outputs": [],
   "source": [
    "line = \"10 blue\"\n",
    "line.is"
   ]
  },
  {
   "cell_type": "code",
   "execution_count": 16,
   "metadata": {},
   "outputs": [
    {
     "data": {
      "text/plain": [
       "2.5"
      ]
     },
     "execution_count": 16,
     "metadata": {},
     "output_type": "execute_result"
    }
   ],
   "source": [
    "5/2."
   ]
  },
  {
   "cell_type": "code",
   "execution_count": 11,
   "metadata": {},
   "outputs": [
    {
     "data": {
      "text/plain": [
       "True"
      ]
     },
     "execution_count": 11,
     "metadata": {},
     "output_type": "execute_result"
    }
   ],
   "source": [
    "cup[0].isdigit()"
   ]
  },
  {
   "cell_type": "code",
   "execution_count": 22,
   "metadata": {
    "collapsed": true
   },
   "outputs": [],
   "source": [
    "foo = [3,5,7.6,9,113,67]"
   ]
  },
  {
   "cell_type": "code",
   "execution_count": 24,
   "metadata": {},
   "outputs": [
    {
     "name": "stdout",
     "output_type": "stream",
     "text": [
      "[3, 5, 7.6, 9, 67, 113]\n"
     ]
    }
   ],
   "source": [
    "foo.sort()\n",
    "print foo"
   ]
  },
  {
   "cell_type": "code",
   "execution_count": 64,
   "metadata": {},
   "outputs": [
    {
     "data": {
      "text/plain": [
       "111.0185690182923"
      ]
     },
     "execution_count": 64,
     "metadata": {},
     "output_type": "execute_result"
    }
   ],
   "source": [
    "import time\n",
    "time.clock()"
   ]
  },
  {
   "cell_type": "code",
   "execution_count": 65,
   "metadata": {},
   "outputs": [
    {
     "name": "stdout",
     "output_type": "stream",
     "text": [
      "5759\n"
     ]
    }
   ],
   "source": [
    "h = 1000\n",
    "v = 10\n",
    "rad = v*math.pi/180 #convert to radians\n",
    "print int(math.ceil(h/math.sin(rad)))"
   ]
  },
  {
   "cell_type": "code",
   "execution_count": 45,
   "metadata": {},
   "outputs": [
    {
     "name": "stdout",
     "output_type": "stream",
     "text": [
      "4\n",
      "4\n",
      "5.0\n"
     ]
    }
   ],
   "source": [
    "print int(a)\n",
    "print int (a+0.5)\n",
    "print math.ceil(a)"
   ]
  },
  {
   "cell_type": "code",
   "execution_count": 67,
   "metadata": {},
   "outputs": [
    {
     "name": "stdout",
     "output_type": "stream",
     "text": [
      "1  0.0174435597087  0.0174444444444\n",
      "Taylor: 4.73709519611e-06  Sinus: 2.76330547422e-06\n",
      "2  0.0348818113261  0.0348888888889\n",
      "Taylor: 3.55282134024e-06  Sinus: 1.97378966504e-06\n",
      "3  0.052309448376  0.0523333333333\n",
      "Taylor: 3.15806346407e-06  Sinus: 1.18427379903e-06\n",
      "4  0.0697211676123  0.0697777777778\n",
      "Taylor: 2.36854759805e-06  Sinus: 7.89515866018e-07\n",
      "5  0.0871116706329  0.0872222222222\n",
      "Taylor: 1.97378966504e-06  Sinus: 7.89515809174e-07\n",
      "6  0.104475665491  0.104666666667\n",
      "Taylor: 4.6976193687e-05  Sinus: 1.18427379334e-05\n",
      "7  0.121807868308  0.122111111111\n",
      "Taylor: 3.15806346407e-06  Sinus: 1.57903173204e-06\n",
      "8  0.139103004878  0.139555555556\n",
      "Taylor: 2.36854759805e-06  Sinus: 1.18427379903e-06\n",
      "9  0.156355812275  0.157\n",
      "Taylor: 3.03963606711e-05  Sinus: 7.89515866018e-07\n",
      "10  0.173561040454  0.174444444444\n",
      "Taylor: 2.76330547422e-06  Sinus: 1.18427379903e-06\n",
      "11  0.190713453847  0.191888888889\n",
      "Taylor: 2.76330553106e-06  Sinus: 1.18427379903e-06\n",
      "12  0.20780783296  0.209333333333\n",
      "Taylor: 2.76330547422e-06  Sinus: 1.18427379903e-06\n",
      "13  0.224838975957  0.226777777778\n",
      "Taylor: 3.15806346407e-06  Sinus: 1.18427379903e-06\n",
      "14  0.241801700246  0.244222222222\n",
      "Taylor: 1.57903167519e-06  Sinus: 3.94757933009e-07\n",
      "15  0.258690844054  0.261666666667\n",
      "Taylor: 1.9737896082e-06  Sinus: 7.89515866018e-07\n",
      "16  0.275501267998  0.279111111111\n",
      "Taylor: 1.97378966504e-06  Sinus: 7.89515866018e-07\n",
      "17  0.292227856652  0.296555555556\n",
      "Taylor: 1.97378966504e-06  Sinus: 1.18427379903e-06\n",
      "18  0.308865520099  0.314\n",
      "Taylor: 1.97378966504e-06  Sinus: 7.89515866018e-07\n",
      "19  0.325409195482  0.331444444444\n",
      "Taylor: 2.36854759805e-06  Sinus: 7.89515809174e-07\n",
      "20  0.341853848546  0.348888888889\n",
      "Taylor: 2.36854759805e-06  Sinus: 1.18427374218e-06\n",
      "21  0.358194475168  0.366333333333\n",
      "Taylor: 1.9737896082e-06  Sinus: 2.17116862018e-05\n",
      "22  0.374426102879  0.383777777778\n",
      "Taylor: 1.57903173204e-06  Sinus: 7.89515866018e-07\n",
      "23  0.390543792381  0.401222222222\n",
      "Taylor: 2.76330553106e-06  Sinus: 1.18427379903e-06\n",
      "24  0.406542639046  0.418666666667\n",
      "Taylor: 9.86894826269e-05  Sinus: 1.57903173204e-06\n",
      "25  0.42241777441  0.436111111111\n",
      "Taylor: 5.32923206151e-05  Sinus: 1.57903173204e-06\n",
      "26  0.438164367654  0.453555555556\n",
      "Taylor: 2.36854759805e-06  Sinus: 1.18427379903e-06\n",
      "27  0.453777627076  0.471\n",
      "Taylor: 2.3290717877e-05  Sinus: 7.89515866018e-07\n",
      "28  0.469252801546  0.488444444444\n",
      "Taylor: 2.3290717877e-05  Sinus: 1.18427379903e-06\n",
      "29  0.484585181954  0.505888888889\n",
      "Taylor: 3.94757927324e-06  Sinus: 1.18427379903e-06\n",
      "30  0.499770102643  0.523333333333\n",
      "Taylor: 2.36854759805e-06  Sinus: 7.89515866018e-07\n",
      "31  0.514802942828  0.540777777778\n",
      "Taylor: 1.97378966504e-06  Sinus: 1.18427379903e-06\n",
      "32  0.529679128001  0.558222222222\n",
      "Taylor: 2.76330547422e-06  Sinus: 1.18427379903e-06\n",
      "33  0.544394131325  0.575666666667\n",
      "Taylor: 2.36854759805e-06  Sinus: 1.18427379903e-06\n",
      "34  0.558943475011  0.593111111111\n",
      "Taylor: 2.36854759805e-06  Sinus: 1.18427379903e-06\n",
      "35  0.573322731682  0.610555555556\n",
      "Taylor: 2.36854759805e-06  Sinus: 1.18427379903e-06\n",
      "36  0.587527525714  0.628\n",
      "Taylor: 2.36854754121e-06  Sinus: 1.18427379903e-06\n",
      "37  0.601553534577  0.645444444444\n",
      "Taylor: 2.76330553106e-06  Sinus: 1.18427379903e-06\n",
      "38  0.615396490142  0.662888888889\n",
      "Taylor: 1.97378966504e-06  Sinus: 7.89515866018e-07\n",
      "39  0.629052179987  0.680333333333\n",
      "Taylor: 2.36854759805e-06  Sinus: 7.89515866018e-07\n",
      "40  0.642516448671  0.697777777778\n",
      "Taylor: 3.51334558104e-05  Sinus: 1.18427379903e-06\n",
      "41  0.655785199006  0.715222222222\n",
      "Taylor: 2.76330553106e-06  Sinus: 1.18427374218e-06\n",
      "42  0.668854393298  0.732666666667\n",
      "Taylor: 2.36854759805e-06  Sinus: 7.89515866018e-07\n",
      "43  0.681720054579  0.750111111111\n",
      "Taylor: 1.9737896082e-06  Sinus: 1.18427379903e-06\n",
      "44  0.694378267817  0.767555555556\n",
      "Taylor: 1.57903167519e-06  Sinus: 7.89515866018e-07\n",
      "45  0.706825181105  0.785\n",
      "Taylor: 3.27649082124e-05  Sinus: 7.89515866018e-07\n",
      "46  0.719057006838  0.802444444444\n",
      "Taylor: 2.5659265475e-05  Sinus: 1.18427379903e-06\n",
      "47  0.731070022857  0.819888888889\n",
      "Taylor: 1.57903173204e-06  Sinus: 7.89515866018e-07\n",
      "48  0.742860573593  0.837333333333\n",
      "Taylor: 1.97378966504e-06  Sinus: 1.18427379903e-06\n",
      "49  0.754425071169  0.854777777778\n",
      "Taylor: 2.36854759805e-06  Sinus: 7.89515809174e-07\n",
      "50  0.765759996498  0.872222222222\n",
      "Taylor: 2.36854759805e-06  Sinus: 7.89515866018e-07\n",
      "51  0.776861900351  0.889666666667\n",
      "Taylor: 1.9737896082e-06  Sinus: 1.18427379903e-06\n",
      "52  0.78772740441  0.907111111111\n",
      "Taylor: 1.9737896082e-06  Sinus: 7.89515866018e-07\n",
      "53  0.79835320229  0.924555555556\n",
      "Taylor: 1.97378966504e-06  Sinus: 1.18427374218e-06\n",
      "54  0.808736060553  0.942\n",
      "Taylor: 1.9737896082e-06  Sinus: 7.89515866018e-07\n",
      "55  0.818872819684  0.959444444444\n",
      "Taylor: 1.97378966504e-06  Sinus: 7.89515866018e-07\n",
      "56  0.828760395059  0.976888888889\n",
      "Taylor: 3.55282134024e-06  Sinus: 1.18427379903e-06\n",
      "57  0.838395777879  0.994333333333\n",
      "Taylor: 1.57903173204e-06  Sinus: 7.89515809174e-07\n",
      "58  0.847776036088  1.01177777778\n",
      "Taylor: 2.36854759805e-06  Sinus: 1.18427379903e-06\n",
      "59  0.856898315265  1.02922222222\n",
      "Taylor: 3.15806346407e-06  Sinus: 1.18427379903e-06\n",
      "60  0.865759839492  1.04666666667\n",
      "Taylor: 1.97378966504e-06  Sinus: 7.89515866018e-07\n",
      "61  0.874357912199  1.06411111111\n",
      "Taylor: 1.57903173204e-06  Sinus: 1.18427379903e-06\n",
      "62  0.882689916985  1.08155555556\n",
      "Taylor: 3.90810351405e-05  Sinus: 1.57903167519e-06\n",
      "63  0.890753318412  1.099\n",
      "Taylor: 3.63177296094e-05  Sinus: 1.57903173204e-06\n",
      "64  0.89854566278  1.11644444444\n",
      "Taylor: 1.97378966504e-06  Sinus: 1.18427379903e-06\n",
      "65  0.906064578872  1.13388888889\n",
      "Taylor: 1.57903173204e-06  Sinus: 7.89515866018e-07\n",
      "66  0.913307778675  1.15133333333\n",
      "Taylor: 1.97378966504e-06  Sinus: 7.89515866018e-07\n",
      "67  0.920273058075  1.16877777778\n",
      "Taylor: 6.47403005587e-05  Sinus: 7.89515866018e-07\n",
      "68  0.926958297533  1.18622222222\n",
      "Taylor: 2.36854754121e-06  Sinus: 1.18427379903e-06\n",
      "69  0.933361462723  1.20366666667\n",
      "Taylor: 1.97378966504e-06  Sinus: 7.89515866018e-07\n",
      "70  0.939480605157  1.22111111111\n",
      "Taylor: 1.97378966504e-06  Sinus: 1.18427379903e-06\n",
      "71  0.945313862773  1.23855555556\n",
      "Taylor: 1.97378966504e-06  Sinus: 1.18427379903e-06\n",
      "72  0.950859460506  1.256\n",
      "Taylor: 2.36854759805e-06  Sinus: 1.18427379903e-06\n",
      "73  0.956115710826  1.27344444444\n",
      "Taylor: 2.76330547422e-06  Sinus: 1.18427379903e-06\n",
      "74  0.961081014251  1.29088888889\n",
      "Taylor: 1.97378966504e-06  Sinus: 1.18427379903e-06\n",
      "75  0.965753859834  1.30833333333\n",
      "Taylor: 1.57903173204e-06  Sinus: 7.89515866018e-07\n",
      "76  0.970132825624  1.32577777778\n",
      "Taylor: 2.36854759805e-06  Sinus: 7.89515866018e-07\n",
      "77  0.974216579098  1.34322222222\n",
      "Taylor: 2.64487813411e-05  Sinus: 1.57903173204e-06\n",
      "78  0.978003877566  1.36066666667\n",
      "Taylor: 2.36854754121e-06  Sinus: 1.18427379903e-06\n",
      "79  0.981493568549  1.37811111111\n",
      "Taylor: 3.27649082692e-05  Sinus: 1.18427379903e-06\n",
      "80  0.984684590131  1.39555555556\n",
      "Taylor: 2.36854754121e-06  Sinus: 1.18427379903e-06\n",
      "81  0.987575971281  1.413\n",
      "Taylor: 2.76330547422e-06  Sinus: 1.18427379903e-06\n",
      "82  0.99016683215  1.43044444444\n",
      "Taylor: 2.36854759805e-06  Sinus: 1.18427379903e-06\n",
      "83  0.992456384335  1.44788888889\n",
      "Taylor: 1.18427379903e-06  Sinus: 3.94757933009e-07\n",
      "84  0.994443931125  1.46533333333\n",
      "Taylor: 1.97378966504e-06  Sinus: 1.18427374218e-06\n",
      "85  0.996128867707  1.48277777778\n",
      "Taylor: 1.18427379903e-06  Sinus: 3.94757876165e-07\n",
      "86  0.997510681353  1.50022222222\n",
      "Taylor: 2.36854759805e-06  Sinus: 7.89515866018e-07\n",
      "87  0.998588951575  1.51766666667\n",
      "Taylor: 1.97378966504e-06  Sinus: 1.18427379903e-06\n",
      "88  0.999363350256  1.53511111111\n",
      "Taylor: 1.18427379903e-06  Sinus: 3.94757933009e-07\n"
     ]
    }
   ],
   "source": [
    "for i in range(1,89):\n",
    "    rad = i*3.14/180\n",
    "    ts = time.clock()\n",
    "    taylor = rad - 1/6*(rad**3) + 1/120*(rad**5)\n",
    "    time_t = time.clock()-ts\n",
    "    ts = time.clock()\n",
    "    sinus = math.sin(rad)\n",
    "    time_s = time.clock()-ts\n",
    "    print str(i) + \"  \" + str(sinus) + \"  \" + str(taylor)\n",
    "    print \"Taylor: \" + str(time_t) + \"  Sinus: \" + str(time_s)"
   ]
  },
  {
   "cell_type": "code",
   "execution_count": 68,
   "metadata": {
    "collapsed": true
   },
   "outputs": [],
   "source": [
    "toilet = 'UUUDDUDU'"
   ]
  },
  {
   "cell_type": "code",
   "execution_count": 74,
   "metadata": {},
   "outputs": [
    {
     "data": {
      "text/plain": [
       "'UUDDUDU'"
      ]
     },
     "execution_count": 74,
     "metadata": {},
     "output_type": "execute_result"
    }
   ],
   "source": [
    "toilet[1:]"
   ]
  },
  {
   "cell_type": "code",
   "execution_count": 73,
   "metadata": {},
   "outputs": [
    {
     "data": {
      "text/plain": [
       "6"
      ]
     },
     "execution_count": 73,
     "metadata": {},
     "output_type": "execute_result"
    }
   ],
   "source": [
    "True + 5"
   ]
  },
  {
   "cell_type": "code",
   "execution_count": 75,
   "metadata": {},
   "outputs": [
    {
     "data": {
      "text/plain": [
       "-1"
      ]
     },
     "execution_count": 75,
     "metadata": {},
     "output_type": "execute_result"
    }
   ],
   "source": [
    "False -1"
   ]
  },
  {
   "cell_type": "code",
   "execution_count": 76,
   "metadata": {},
   "outputs": [
    {
     "data": {
      "text/plain": [
       "0"
      ]
     },
     "execution_count": 76,
     "metadata": {},
     "output_type": "execute_result"
    }
   ],
   "source": [
    "1*False"
   ]
  },
  {
   "cell_type": "code",
   "execution_count": null,
   "metadata": {
    "collapsed": true
   },
   "outputs": [],
   "source": [
    "False"
   ]
  }
 ],
 "metadata": {
  "kernelspec": {
   "display_name": "Python 2",
   "language": "python",
   "name": "python2"
  },
  "language_info": {
   "codemirror_mode": {
    "name": "ipython",
    "version": 2
   },
   "file_extension": ".py",
   "mimetype": "text/x-python",
   "name": "python",
   "nbconvert_exporter": "python",
   "pygments_lexer": "ipython2",
   "version": "2.7.14"
  }
 },
 "nbformat": 4,
 "nbformat_minor": 2
}
